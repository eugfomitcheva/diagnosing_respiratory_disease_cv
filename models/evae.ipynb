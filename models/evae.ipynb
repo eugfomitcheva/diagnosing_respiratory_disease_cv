{
 "cells": [
  {
   "cell_type": "markdown",
   "metadata": {},
   "source": [
    "# Advanced Models: EVAE-Net"
   ]
  },
  {
   "cell_type": "code",
   "execution_count": null,
   "metadata": {},
   "outputs": [],
   "source": [
    "# imports\n",
    "\n",
    "import torch\n",
    "import torch.nn as nn\n",
    "import torch.nn.functional as F\n",
    "import torch.optim as optim\n",
    "from torch.utils.data import Dataset, DataLoader\n",
    "from torch.autograd import Variable\n",
    "from torchvision import transforms, utils\n",
    "import torchvision.models as models\n",
    "from torch.utils.data.sampler import SubsetRandomSampler\n",
    "\n",
    "import numpy as np\n",
    "import matplotlib.pyplot as plt\n",
    "import pandas as pd\n",
    "import os\n",
    "\n",
    "from sklearn.model_selection import train_test_split\n",
    "from sklearn.metrics import accuracy_score\n",
    "\n",
    "import warnings\n",
    "warnings.filterwarnings(\"ignore\")"
   ]
  },
  {
   "cell_type": "code",
   "execution_count": null,
   "metadata": {},
   "outputs": [],
   "source": [
    "class EVAE(nn.Module):\n",
    "    def __init__(self, latent_dim, num_classes):\n",
    "        super(EVAE, self).__init__()\n",
    "        self.latent_dim = latent_dim\n",
    "        self.num_classes = num_classes\n",
    "        \n",
    "        # Define ResNet50 Encoder\n",
    "        resnet = models.resnet50(pretrained=True)\n",
    "        resnet_layers = list(resnet.children())[:-1]  # Remove last layer (classification head)\n",
    "        self.resnet_encoder = nn.Sequential(*resnet_layers)\n",
    "        \n",
    "        # Define VGG16 Encoder\n",
    "        vgg16 = models.vgg16(pretrained=True)\n",
    "        vgg16_layers = list(vgg16.features.children())[:-1]  # Remove last layer (max pooling)\n",
    "        self.vgg16_encoder = nn.Sequential(*vgg16_layers)\n",
    "        \n",
    "        # Define reparameterization layers\n",
    "        self.fc1 = nn.Linear(4096, latent_dim)  # 4096 = 2048 from ResNet50 + 2048 from VGG16\n",
    "        self.fc2 = nn.Linear(4096, latent_dim)\n",
    "        \n",
    "        # Define classification head\n",
    "        self.classification_head = nn.Linear(latent_dim, num_classes)\n",
    "        \n",
    "        # Define decoder\n",
    "        self.decoder = nn.Sequential(\n",
    "            nn.ConvTranspose2d(latent_dim, 256, kernel_size=4, stride=2, padding=1),\n",
    "            nn.ReLU(inplace=True),\n",
    "            nn.ConvTranspose2d(256, 128, kernel_size=4, stride=2, padding=1),\n",
    "            nn.ReLU(inplace=True),\n",
    "            nn.ConvTranspose2d(128, 64, kernel_size=4, stride=2, padding=1),\n",
    "            nn.ReLU(inplace=True),\n",
    "            nn.ConvTranspose2d(64, 1, kernel_size=4, stride=2, padding=1),\n",
    "            nn.Sigmoid()\n",
    "        )\n",
    "        \n",
    "    def encode(self, x):\n",
    "        resnet_features = self.resnet_encoder(x)\n",
    "        vgg16_features = self.vgg16_encoder(x)\n",
    "        features = torch.cat((resnet_features.view(resnet_features.size(0), -1), \n",
    "                              vgg16_features.view(vgg16_features.size(0), -1)), dim=1)\n",
    "        h1 = F.relu(self.fc1(features))\n",
    "        h2 = F.relu(self.fc2(features))\n",
    "        return h1, h2\n",
    "    \n",
    "    def decode(self, z):\n",
    "        x_hat = self.decoder(z.unsqueeze(-1).unsqueeze(-1))\n",
    "        return x_hat\n",
    "    \n",
    "    def forward(self, x):\n",
    "        mu, log_var = self.encode(x)\n",
    "        std = torch.exp(0.5 * log_var)\n",
    "        eps = torch.randn_like(std)\n",
    "        z = eps * std + mu\n",
    "        x_hat = self.decode(z)\n",
    "        y = self.classification_head(z)\n",
    "        return x_hat, y, mu, log_var\n",
    "    \n",
    "    def loss_function(self, x_hat, x, y, mu, log_var):\n",
    "        BCE = F.binary_cross_entropy(x_hat.view(-1, 1024*1024), x.view(-1, 1024*1024), reduction='sum')\n",
    "        KLD = -0.5 * torch.sum(1 + log_var - mu.pow(2) - log_var.exp())\n",
    "        Lcls = F.cross_entropy(y, target, reduction='sum')\n",
    "        return BCE, KLD, Lcls"
   ]
  },
  {
   "cell_type": "code",
   "execution_count": null,
   "metadata": {},
   "outputs": [],
   "source": [
    "# Training EVAE-Net with pre-trained ResNet50 "
   ]
  },
  {
   "cell_type": "code",
   "execution_count": null,
   "metadata": {},
   "outputs": [],
   "source": []
  }
 ],
 "metadata": {
  "kernelspec": {
   "display_name": "Python 3.8.2 ('base')",
   "language": "python",
   "name": "python3"
  },
  "language_info": {
   "name": "python",
   "version": "3.8.2"
  },
  "orig_nbformat": 4,
  "vscode": {
   "interpreter": {
    "hash": "1da3383a1b58fe481baf23ca14731c20d0a972ba0c6221953a6c3e65df3165e3"
   }
  }
 },
 "nbformat": 4,
 "nbformat_minor": 2
}
