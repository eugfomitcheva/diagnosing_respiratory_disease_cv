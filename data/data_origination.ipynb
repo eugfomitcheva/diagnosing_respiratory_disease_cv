{
  "nbformat": 4,
  "nbformat_minor": 0,
  "metadata": {
    "colab": {
      "provenance": []
    },
    "kernelspec": {
      "name": "python3",
      "display_name": "Python 3"
    },
    "language_info": {
      "name": "python"
    }
  },
  "cells": [
    {
      "cell_type": "markdown",
      "source": [
        "This code needs to be executed once to properly structure the data repository for models to use."
      ],
      "metadata": {
        "id": "VWGLL2Maooiw"
      }
    },
    {
      "cell_type": "code",
      "source": [
        "from google.colab import drive\n",
        "import sys\n",
        "import os\n",
        "\n",
        "drive.mount('/content/drive/')\n",
        "\n",
        "path_to_utils='/content/drive/MyDrive/Colab Notebooks/healthcare_data' # CHECK PATH.\n",
        "sys.path.append(path_to_utils)\n",
        "os.chdir(path_to_utils)"
      ],
      "metadata": {
        "id": "2Neq1G47ome5"
      },
      "execution_count": null,
      "outputs": []
    },
    {
      "cell_type": "code",
      "execution_count": null,
      "metadata": {
        "id": "GvKgo_95obfR"
      },
      "outputs": [],
      "source": [
        "from sklearn.model_selection import train_test_split\n",
        "import os\n",
        "from shutil import copyfile\n",
        "\n",
        "# Set paths to image folders -- CHECK PATHS\n",
        "class1_dir = '/content/drive/MyDrive/Colab Notebooks/healthcare_data/Viral_Pneumonia/images'\n",
        "class2_dir = '/content/drive/MyDrive/Colab Notebooks/healthcare_data/Normal/images'\n",
        "class3_dir = '/content/drive/MyDrive/Colab Notebooks/healthcare_data/Lung_Opacity/images'\n",
        "class4_dir = '/content/drive/MyDrive/Colab Notebooks/healthcare_data/COVID/images'\n",
        "\n",
        "# Set paths to output directories\n",
        "train_dir = '/content/drive/MyDrive/Colab Notebooks/healthcare_data/train_data2'\n",
        "val_dir = '/content/drive/MyDrive/Colab Notebooks/healthcare_data/val_data2'\n",
        "test_dir = '/content/drive/MyDrive/Colab Notebooks/healthcare_data/test_data2'\n",
        "\n",
        "# Create output directories\n",
        "os.makedirs(train_dir, exist_ok=True)\n",
        "os.makedirs(val_dir, exist_ok=True)\n",
        "os.makedirs(test_dir, exist_ok=True)\n",
        "\n",
        "# Split images into train, validation, and test sets\n",
        "for class_dir, class_name in zip([class1_dir, class2_dir, class3_dir, class4_dir], ['class0', 'class1', 'class2', 'class3']):\n",
        "    image_files = os.listdir(class_dir)\n",
        "    train_files, test_files = train_test_split(image_files, test_size=0.1, random_state=9)\n",
        "    train_files, val_files = train_test_split(train_files, test_size=0.33, random_state=9)\n",
        "\n",
        "    # Copy train images to train folder\n",
        "    for file_name in train_files:\n",
        "        src_path = os.path.join(class_dir, file_name)\n",
        "        dst_path = os.path.join(train_dir, class_name, file_name)\n",
        "        os.makedirs(os.path.dirname(dst_path), exist_ok=True)\n",
        "        copyfile(src_path, dst_path)\n",
        "\n",
        "    # Copy validation images to validation folder\n",
        "    for file_name in val_files:\n",
        "        src_path = os.path.join(class_dir, file_name)\n",
        "        dst_path = os.path.join(val_dir, class_name, file_name)\n",
        "        os.makedirs(os.path.dirname(dst_path), exist_ok=True)\n",
        "        copyfile(src_path, dst_path)\n",
        "\n",
        "    # Copy test images to test folder\n",
        "    for file_name in test_files:\n",
        "        src_path = os.path.join(class_dir, file_name)\n",
        "        dst_path = os.path.join(test_dir, class_name, file_name)\n",
        "        os.makedirs(os.path.dirname(dst_path), exist_ok=True)\n",
        "        copyfile(src_path, dst_path)"
      ]
    }
  ]
}